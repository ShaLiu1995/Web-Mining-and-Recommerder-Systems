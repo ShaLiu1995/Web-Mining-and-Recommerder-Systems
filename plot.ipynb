{
 "cells": [
  {
   "cell_type": "code",
   "execution_count": 1,
   "metadata": {},
   "outputs": [
    {
     "name": "stderr",
     "output_type": "stream",
     "text": [
      "IOPub data rate exceeded.\n",
      "The notebook server will temporarily stop sending output\n",
      "to the client in order to avoid crashing it.\n",
      "To change this limit, set the config variable\n",
      "`--NotebookApp.iopub_data_rate_limit`.\n"
     ]
    }
   ],
   "source": [
    "import numpy as np # linear algebra\n",
    "import pandas as pd # data processing, CSV file I/O (e.g. pd.read_csv)\n",
    "import seaborn as sns\n",
    "import plotly.plotly as py\n",
    "import plotly.graph_objs as go\n",
    "from plotly import tools\n",
    "from plotly.offline import iplot, init_notebook_mode\n",
    "init_notebook_mode()\n",
    "from subprocess import check_output\n",
    "\n",
    "# print(check_output([\"ls\", \"../input\"]).decode(\"utf8\"))\n",
    "pd.set_option('display.max_columns', None)\n",
    " "
   ]
  },
  {
   "cell_type": "code",
   "execution_count": 5,
   "metadata": {
    "collapsed": true
   },
   "outputs": [],
   "source": [
    "df = pd.read_csv(\"shuffled_data_1million.csv\", header=0, sep=',')"
   ]
  },
  {
   "cell_type": "code",
   "execution_count": 29,
   "metadata": {
    "collapsed": true
   },
   "outputs": [],
   "source": [
    "p = df.groupby(['Rating']).count()"
   ]
  },
  {
   "cell_type": "code",
   "execution_count": 30,
   "metadata": {},
   "outputs": [
    {
     "data": {
      "text/html": [
       "<div>\n",
       "<style>\n",
       "    .dataframe thead tr:only-child th {\n",
       "        text-align: right;\n",
       "    }\n",
       "\n",
       "    .dataframe thead th {\n",
       "        text-align: left;\n",
       "    }\n",
       "\n",
       "    .dataframe tbody tr th {\n",
       "        vertical-align: top;\n",
       "    }\n",
       "</style>\n",
       "<table border=\"1\" class=\"dataframe\">\n",
       "  <thead>\n",
       "    <tr style=\"text-align: right;\">\n",
       "      <th></th>\n",
       "      <th>Product Name</th>\n",
       "      <th>Brand Name</th>\n",
       "      <th>Price</th>\n",
       "      <th>Reviews</th>\n",
       "      <th>Review Votes</th>\n",
       "    </tr>\n",
       "    <tr>\n",
       "      <th>Rating</th>\n",
       "      <th></th>\n",
       "      <th></th>\n",
       "      <th></th>\n",
       "      <th></th>\n",
       "      <th></th>\n",
       "    </tr>\n",
       "  </thead>\n",
       "  <tbody>\n",
       "    <tr>\n",
       "      <th>1</th>\n",
       "      <td>17451</td>\n",
       "      <td>14565</td>\n",
       "      <td>17088</td>\n",
       "      <td>17448</td>\n",
       "      <td>17451</td>\n",
       "    </tr>\n",
       "    <tr>\n",
       "      <th>2</th>\n",
       "      <td>6003</td>\n",
       "      <td>5189</td>\n",
       "      <td>5890</td>\n",
       "      <td>6002</td>\n",
       "      <td>6003</td>\n",
       "    </tr>\n",
       "    <tr>\n",
       "      <th>3</th>\n",
       "      <td>7617</td>\n",
       "      <td>6505</td>\n",
       "      <td>7480</td>\n",
       "      <td>7616</td>\n",
       "      <td>7617</td>\n",
       "    </tr>\n",
       "    <tr>\n",
       "      <th>4</th>\n",
       "      <td>14941</td>\n",
       "      <td>12789</td>\n",
       "      <td>14735</td>\n",
       "      <td>14936</td>\n",
       "      <td>14941</td>\n",
       "    </tr>\n",
       "    <tr>\n",
       "      <th>5</th>\n",
       "      <td>53988</td>\n",
       "      <td>45243</td>\n",
       "      <td>53351</td>\n",
       "      <td>53979</td>\n",
       "      <td>53988</td>\n",
       "    </tr>\n",
       "  </tbody>\n",
       "</table>\n",
       "</div>"
      ],
      "text/plain": [
       "        Product Name  Brand Name  Price  Reviews  Review Votes\n",
       "Rating                                                        \n",
       "1              17451       14565  17088    17448         17451\n",
       "2               6003        5189   5890     6002          6003\n",
       "3               7617        6505   7480     7616          7617\n",
       "4              14941       12789  14735    14936         14941\n",
       "5              53988       45243  53351    53979         53988"
      ]
     },
     "execution_count": 30,
     "metadata": {},
     "output_type": "execute_result"
    }
   ],
   "source": [
    "p"
   ]
  },
  {
   "cell_type": "code",
   "execution_count": 25,
   "metadata": {
    "collapsed": true
   },
   "outputs": [],
   "source": [
    "p = p['Price']"
   ]
  },
  {
   "cell_type": "code",
   "execution_count": 20,
   "metadata": {
    "collapsed": true
   },
   "outputs": [],
   "source": [
    "from matplotlib.pylab import subplots"
   ]
  },
  {
   "cell_type": "code",
   "execution_count": 21,
   "metadata": {
    "collapsed": true
   },
   "outputs": [],
   "source": [
    "%matplotlib inline"
   ]
  },
  {
   "cell_type": "code",
   "execution_count": 27,
   "metadata": {},
   "outputs": [
    {
     "data": {
      "text/plain": [
       "<matplotlib.axes._subplots.AxesSubplot at 0x155d86a0>"
      ]
     },
     "execution_count": 27,
     "metadata": {},
     "output_type": "execute_result"
    }
   ],
   "source": [
    "fig, ax = subplots();\n",
    "p.plot(kind='bar', ax= ax)"
   ]
  },
  {
   "cell_type": "code",
   "execution_count": 31,
   "metadata": {
    "collapsed": true
   },
   "outputs": [],
   "source": [
    "fig.set_size_inches(10,6)"
   ]
  },
  {
   "cell_type": "code",
   "execution_count": 32,
   "metadata": {},
   "outputs": [
    {
     "data": {
      "image/png": "[encoded data removed]",
      "text/plain": [
       "<matplotlib.figure.Figure at 0x155d8128>"
      ]
     },
     "execution_count": 32,
     "metadata": {},
     "output_type": "execute_result"
    }
   ],
   "source": [
    "fig"
   ]
  },
  {
   "cell_type": "code",
   "execution_count": 33,
   "metadata": {},
   "outputs": [
    {
     "data": {
      "text/html": [
       "<div>\n",
       "<style>\n",
       "    .dataframe thead tr:only-child th {\n",
       "        text-align: right;\n",
       "    }\n",
       "\n",
       "    .dataframe thead th {\n",
       "        text-align: left;\n",
       "    }\n",
       "\n",
       "    .dataframe tbody tr th {\n",
       "        vertical-align: top;\n",
       "    }\n",
       "</style>\n",
       "<table border=\"1\" class=\"dataframe\">\n",
       "  <thead>\n",
       "    <tr style=\"text-align: right;\">\n",
       "      <th></th>\n",
       "      <th>Product Name</th>\n",
       "      <th>Brand Name</th>\n",
       "      <th>Price</th>\n",
       "      <th>Rating</th>\n",
       "      <th>Reviews</th>\n",
       "      <th>Review Votes</th>\n",
       "    </tr>\n",
       "  </thead>\n",
       "  <tbody>\n",
       "    <tr>\n",
       "      <th>0</th>\n",
       "      <td>Samsung S5830 Galaxy Ace - Unlocked Phone - Black</td>\n",
       "      <td>Samsung</td>\n",
       "      <td>89.99</td>\n",
       "      <td>1</td>\n",
       "      <td>I bought this as a gift. My husband has had no...</td>\n",
       "      <td>0</td>\n",
       "    </tr>\n",
       "    <tr>\n",
       "      <th>1</th>\n",
       "      <td>Sony Xperia Z Ultra C6833 Black (Factory Unloc...</td>\n",
       "      <td>NaN</td>\n",
       "      <td>450.83</td>\n",
       "      <td>4</td>\n",
       "      <td>the product its nice and atractive... my probl...</td>\n",
       "      <td>0</td>\n",
       "    </tr>\n",
       "    <tr>\n",
       "      <th>2</th>\n",
       "      <td>BLU Dash M - 5.0\" Smartphone - US GSM Unlocked...</td>\n",
       "      <td>BLU</td>\n",
       "      <td>69.87</td>\n",
       "      <td>1</td>\n",
       "      <td>My phone is defected its takes all day to char...</td>\n",
       "      <td>0</td>\n",
       "    </tr>\n",
       "    <tr>\n",
       "      <th>3</th>\n",
       "      <td>BLU Life Pure Unlocked Phone (Black)</td>\n",
       "      <td>BLU</td>\n",
       "      <td>150.00</td>\n",
       "      <td>5</td>\n",
       "      <td>great phone</td>\n",
       "      <td>0</td>\n",
       "    </tr>\n",
       "    <tr>\n",
       "      <th>4</th>\n",
       "      <td>CNPGD All-in-1 Watch Cell Phone &amp; Smart Watch ...</td>\n",
       "      <td>CNPGD</td>\n",
       "      <td>59.99</td>\n",
       "      <td>5</td>\n",
       "      <td>This is a great watch! Very easy to set up for...</td>\n",
       "      <td>6</td>\n",
       "    </tr>\n",
       "    <tr>\n",
       "      <th>5</th>\n",
       "      <td>Nokia Lumia 1020 RM-877 GSM Unlocked 32GB Wind...</td>\n",
       "      <td>Nokia</td>\n",
       "      <td>337.00</td>\n",
       "      <td>5</td>\n",
       "      <td>This is a great phone. I've never had an iPhon...</td>\n",
       "      <td>2</td>\n",
       "    </tr>\n",
       "    <tr>\n",
       "      <th>6</th>\n",
       "      <td>Blackberry Bold Touch 9930 CDMA GSM Unlocked P...</td>\n",
       "      <td>BlackBerry</td>\n",
       "      <td>104.95</td>\n",
       "      <td>2</td>\n",
       "      <td>Seems to work Okay. Good phone to have as a Ba...</td>\n",
       "      <td>0</td>\n",
       "    </tr>\n",
       "    <tr>\n",
       "      <th>7</th>\n",
       "      <td>BLU Tank II T193 Unlocked GSM Dual-SIM Cell Ph...</td>\n",
       "      <td>BLU</td>\n",
       "      <td>26.41</td>\n",
       "      <td>5</td>\n",
       "      <td>Good phone</td>\n",
       "      <td>0</td>\n",
       "    </tr>\n",
       "    <tr>\n",
       "      <th>8</th>\n",
       "      <td>OtterBox Samsung Galaxy S5 Defender Series Pro...</td>\n",
       "      <td>Ultrabox</td>\n",
       "      <td>14.99</td>\n",
       "      <td>5</td>\n",
       "      <td>Fit my husband's outer box great and he loves it</td>\n",
       "      <td>0</td>\n",
       "    </tr>\n",
       "    <tr>\n",
       "      <th>9</th>\n",
       "      <td>Huawei 5 inch Ascend G700 Dual Sim Quad Core A...</td>\n",
       "      <td>NaN</td>\n",
       "      <td>200.43</td>\n",
       "      <td>5</td>\n",
       "      <td>great value for those features. you wont find ...</td>\n",
       "      <td>4</td>\n",
       "    </tr>\n",
       "  </tbody>\n",
       "</table>\n",
       "</div>"
      ],
      "text/plain": [
       "                                        Product Name  Brand Name   Price  \\\n",
       "0  Samsung S5830 Galaxy Ace - Unlocked Phone - Black     Samsung   89.99   \n",
       "1  Sony Xperia Z Ultra C6833 Black (Factory Unloc...         NaN  450.83   \n",
       "2  BLU Dash M - 5.0\" Smartphone - US GSM Unlocked...         BLU   69.87   \n",
       "3               BLU Life Pure Unlocked Phone (Black)         BLU  150.00   \n",
       "4  CNPGD All-in-1 Watch Cell Phone & Smart Watch ...       CNPGD   59.99   \n",
       "5  Nokia Lumia 1020 RM-877 GSM Unlocked 32GB Wind...       Nokia  337.00   \n",
       "6  Blackberry Bold Touch 9930 CDMA GSM Unlocked P...  BlackBerry  104.95   \n",
       "7  BLU Tank II T193 Unlocked GSM Dual-SIM Cell Ph...         BLU   26.41   \n",
       "8  OtterBox Samsung Galaxy S5 Defender Series Pro...    Ultrabox   14.99   \n",
       "9  Huawei 5 inch Ascend G700 Dual Sim Quad Core A...         NaN  200.43   \n",
       "\n",
       "   Rating                                            Reviews  Review Votes  \n",
       "0       1  I bought this as a gift. My husband has had no...             0  \n",
       "1       4  the product its nice and atractive... my probl...             0  \n",
       "2       1  My phone is defected its takes all day to char...             0  \n",
       "3       5                                        great phone             0  \n",
       "4       5  This is a great watch! Very easy to set up for...             6  \n",
       "5       5  This is a great phone. I've never had an iPhon...             2  \n",
       "6       2  Seems to work Okay. Good phone to have as a Ba...             0  \n",
       "7       5                                         Good phone             0  \n",
       "8       5   Fit my husband's outer box great and he loves it             0  \n",
       "9       5  great value for those features. you wont find ...             4  "
      ]
     },
     "execution_count": 33,
     "metadata": {},
     "output_type": "execute_result"
    }
   ],
   "source": [
    "df.head(10)"
   ]
  },
  {
   "cell_type": "code",
   "execution_count": 36,
   "metadata": {
    "collapsed": true
   },
   "outputs": [],
   "source": [
    "df_price = df['Price']"
   ]
  },
  {
   "cell_type": "code",
   "execution_count": 37,
   "metadata": {},
   "outputs": [
    {
     "data": {
      "text/plain": [
       "0     89.99\n",
       "1    450.83\n",
       "2     69.87\n",
       "3    150.00\n",
       "4     59.99\n",
       "5    337.00\n",
       "6    104.95\n",
       "7     26.41\n",
       "8     14.99\n",
       "9    200.43\n",
       "Name: Price, dtype: float64"
      ]
     },
     "execution_count": 37,
     "metadata": {},
     "output_type": "execute_result"
    }
   ],
   "source": [
    "df_price.head(10)"
   ]
  },
  {
   "cell_type": "code",
   "execution_count": 40,
   "metadata": {},
   "outputs": [
    {
     "data": {
      "text/plain": [
       "2566.0"
      ]
     },
     "execution_count": 40,
     "metadata": {},
     "output_type": "execute_result"
    }
   ],
   "source": [
    "df_price.max()"
   ]
  },
  {
   "cell_type": "code",
   "execution_count": 60,
   "metadata": {
    "collapsed": true
   },
   "outputs": [],
   "source": [
    "bins = [0,50,100,200,300,400,500,600,700,800,900,1000]"
   ]
  },
  {
   "cell_type": "code",
   "execution_count": 61,
   "metadata": {
    "collapsed": true
   },
   "outputs": [],
   "source": [
    "cats=pd.cut(df_price,bins)"
   ]
  },
  {
   "cell_type": "code",
   "execution_count": 62,
   "metadata": {
    "collapsed": true
   },
   "outputs": [],
   "source": [
    "p_price = pd.value_counts(cats)"
   ]
  },
  {
   "cell_type": "code",
   "execution_count": 63,
   "metadata": {},
   "outputs": [
    {
     "data": {
      "text/plain": [
       "(100, 200]     27114\n",
       "(50, 100]      21585\n",
       "(0, 50]        14835\n",
       "(200, 300]     14353\n",
       "(300, 400]      5790\n",
       "(400, 500]      5007\n",
       "(500, 600]      4159\n",
       "(600, 700]      2640\n",
       "(700, 800]      1069\n",
       "(900, 1000]      414\n",
       "(800, 900]       160\n",
       "Name: Price, dtype: int64"
      ]
     },
     "execution_count": 63,
     "metadata": {},
     "output_type": "execute_result"
    }
   ],
   "source": [
    "p_price"
   ]
  },
  {
   "cell_type": "code",
   "execution_count": 69,
   "metadata": {},
   "outputs": [
    {
     "data": {
      "text/plain": [
       "<matplotlib.axes._subplots.AxesSubplot at 0x16026780>"
      ]
     },
     "execution_count": 69,
     "metadata": {},
     "output_type": "execute_result"
    }
   ],
   "source": [
    "p_price.plot(kind='bar', ax= ax, color = 'blue')"
   ]
  },
  {
   "cell_type": "code",
   "execution_count": 71,
   "metadata": {},
   "outputs": [
    {
     "data": {
      "text/plain": [
       "<matplotlib.axes._subplots.AxesSubplot at 0x121b8198>"
      ]
     },
     "execution_count": 71,
     "metadata": {},
     "output_type": "execute_result"
    }
   ],
   "source": [
    "fig,ax = subplots()\n",
    "fig.set_size_inches(10,6)\n",
    "ax.set_xlabel('Price Interval')\n",
    "ax.set_ylabel('Number of reviews')\n",
    "p_price.plot(kind='bar', ax= ax)"
   ]
  },
  {
   "cell_type": "code",
   "execution_count": 72,
   "metadata": {},
   "outputs": [
    {
     "data": {
      "image/png": "[encoded data removed]",
      "text/plain": [
       "<matplotlib.figure.Figure at 0x17082be0>"
      ]
     },
     "execution_count": 72,
     "metadata": {},
     "output_type": "execute_result"
    }
   ],
   "source": [
    "fig"
   ]
  }
 ],
 "metadata": {
  "kernelspec": {
   "display_name": "Python 3",
   "language": "python",
   "name": "python3"
  },
  "language_info": {
   "codemirror_mode": {
    "name": "ipython",
    "version": 3
   },
   "file_extension": ".py",
   "mimetype": "text/x-python",
   "name": "python",
   "nbconvert_exporter": "python",
   "pygments_lexer": "ipython3",
   "version": "3.6.2"
  }
 },
 "nbformat": 4,
 "nbformat_minor": 2
}
