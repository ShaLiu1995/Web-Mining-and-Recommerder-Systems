{
 "cells": [
  {
   "cell_type": "code",
   "execution_count": 12,
   "metadata": {},
   "outputs": [],
   "source": [
    "import csv\n",
    "import numpy\n",
    "from collections import defaultdict\n",
    "import nltk\n",
    "import seaborn as sns\n",
    "import string\n",
    "from nltk.stem.porter import *\n",
    "from nltk.corpus import stopwords\n",
    "import pandas as pd\n",
    "import matplotlib.pyplot as plt\n",
    "from matplotlib import pyplot"
   ]
  },
  {
   "cell_type": "code",
   "execution_count": 13,
   "metadata": {
    "collapsed": true
   },
   "outputs": [],
   "source": [
    "Data=pd.read_csv('FOR_PLOT.csv')\n",
    "Data=Data.dropna(axis=0)"
   ]
  },
  {
   "cell_type": "code",
   "execution_count": 14,
   "metadata": {},
   "outputs": [
    {
     "data": {
      "text/html": [
       "<div>\n",
       "<style>\n",
       "    .dataframe thead tr:only-child th {\n",
       "        text-align: right;\n",
       "    }\n",
       "\n",
       "    .dataframe thead th {\n",
       "        text-align: left;\n",
       "    }\n",
       "\n",
       "    .dataframe tbody tr th {\n",
       "        vertical-align: top;\n",
       "    }\n",
       "</style>\n",
       "<table border=\"1\" class=\"dataframe\">\n",
       "  <thead>\n",
       "    <tr style=\"text-align: right;\">\n",
       "      <th></th>\n",
       "      <th>color</th>\n",
       "      <th>Storage(GB)</th>\n",
       "      <th>carrier</th>\n",
       "      <th>warranty</th>\n",
       "      <th>unlock</th>\n",
       "      <th>phonetype</th>\n",
       "      <th>Rating</th>\n",
       "      <th>Price</th>\n",
       "    </tr>\n",
       "  </thead>\n",
       "  <tbody>\n",
       "    <tr>\n",
       "      <th>82171</th>\n",
       "      <td>white</td>\n",
       "      <td>16.0</td>\n",
       "      <td>at&amp;t</td>\n",
       "      <td>0</td>\n",
       "      <td>0</td>\n",
       "      <td>iphone3gs</td>\n",
       "      <td>1</td>\n",
       "      <td>53.000000</td>\n",
       "    </tr>\n",
       "    <tr>\n",
       "      <th>26238</th>\n",
       "      <td>white</td>\n",
       "      <td>32.0</td>\n",
       "      <td>verizon</td>\n",
       "      <td>0</td>\n",
       "      <td>0</td>\n",
       "      <td>samsunggalaxynote4</td>\n",
       "      <td>5</td>\n",
       "      <td>303.450286</td>\n",
       "    </tr>\n",
       "    <tr>\n",
       "      <th>81172</th>\n",
       "      <td>green</td>\n",
       "      <td>16.0</td>\n",
       "      <td>verizon</td>\n",
       "      <td>0</td>\n",
       "      <td>0</td>\n",
       "      <td>iphone5c</td>\n",
       "      <td>4</td>\n",
       "      <td>33.000000</td>\n",
       "    </tr>\n",
       "    <tr>\n",
       "      <th>58580</th>\n",
       "      <td>white</td>\n",
       "      <td>16.0</td>\n",
       "      <td>verizon</td>\n",
       "      <td>0</td>\n",
       "      <td>0</td>\n",
       "      <td>motorola</td>\n",
       "      <td>5</td>\n",
       "      <td>104.010000</td>\n",
       "    </tr>\n",
       "    <tr>\n",
       "      <th>78602</th>\n",
       "      <td>yellow</td>\n",
       "      <td>32.0</td>\n",
       "      <td>verizon</td>\n",
       "      <td>0</td>\n",
       "      <td>0</td>\n",
       "      <td>iphone5c</td>\n",
       "      <td>5</td>\n",
       "      <td>155.000000</td>\n",
       "    </tr>\n",
       "  </tbody>\n",
       "</table>\n",
       "</div>"
      ],
      "text/plain": [
       "        color  Storage(GB)  carrier  warranty  unlock           phonetype  \\\n",
       "82171   white         16.0     at&t         0       0           iphone3gs   \n",
       "26238   white         32.0  verizon         0       0  samsunggalaxynote4   \n",
       "81172   green         16.0  verizon         0       0            iphone5c   \n",
       "58580   white         16.0  verizon         0       0            motorola   \n",
       "78602  yellow         32.0  verizon         0       0            iphone5c   \n",
       "\n",
       "       Rating       Price  \n",
       "82171       1   53.000000  \n",
       "26238       5  303.450286  \n",
       "81172       4   33.000000  \n",
       "58580       5  104.010000  \n",
       "78602       5  155.000000  "
      ]
     },
     "execution_count": 14,
     "metadata": {},
     "output_type": "execute_result"
    }
   ],
   "source": [
    "Data.sample(frac=0.1).head(n=5)"
   ]
  },
  {
   "cell_type": "code",
   "execution_count": 15,
   "metadata": {},
   "outputs": [
    {
     "data": {
      "text/html": [
       "<div>\n",
       "<style>\n",
       "    .dataframe thead tr:only-child th {\n",
       "        text-align: right;\n",
       "    }\n",
       "\n",
       "    .dataframe thead th {\n",
       "        text-align: left;\n",
       "    }\n",
       "\n",
       "    .dataframe tbody tr th {\n",
       "        vertical-align: top;\n",
       "    }\n",
       "</style>\n",
       "<table border=\"1\" class=\"dataframe\">\n",
       "  <thead>\n",
       "    <tr style=\"text-align: right;\">\n",
       "      <th></th>\n",
       "      <th>Storage(GB)</th>\n",
       "      <th>warranty</th>\n",
       "      <th>unlock</th>\n",
       "      <th>Rating</th>\n",
       "      <th>Price</th>\n",
       "    </tr>\n",
       "  </thead>\n",
       "  <tbody>\n",
       "    <tr>\n",
       "      <th>count</th>\n",
       "      <td>15606.000000</td>\n",
       "      <td>15606.000000</td>\n",
       "      <td>15606.000000</td>\n",
       "      <td>15606.000000</td>\n",
       "      <td>15606.000000</td>\n",
       "    </tr>\n",
       "    <tr>\n",
       "      <th>mean</th>\n",
       "      <td>23.721646</td>\n",
       "      <td>0.213700</td>\n",
       "      <td>0.412854</td>\n",
       "      <td>3.912662</td>\n",
       "      <td>272.968452</td>\n",
       "    </tr>\n",
       "    <tr>\n",
       "      <th>std</th>\n",
       "      <td>12.960687</td>\n",
       "      <td>0.410399</td>\n",
       "      <td>0.492363</td>\n",
       "      <td>1.545382</td>\n",
       "      <td>187.584878</td>\n",
       "    </tr>\n",
       "    <tr>\n",
       "      <th>min</th>\n",
       "      <td>8.000000</td>\n",
       "      <td>0.000000</td>\n",
       "      <td>0.000000</td>\n",
       "      <td>1.000000</td>\n",
       "      <td>30.990000</td>\n",
       "    </tr>\n",
       "    <tr>\n",
       "      <th>25%</th>\n",
       "      <td>16.000000</td>\n",
       "      <td>0.000000</td>\n",
       "      <td>0.000000</td>\n",
       "      <td>3.000000</td>\n",
       "      <td>139.950000</td>\n",
       "    </tr>\n",
       "    <tr>\n",
       "      <th>50%</th>\n",
       "      <td>16.000000</td>\n",
       "      <td>0.000000</td>\n",
       "      <td>0.000000</td>\n",
       "      <td>5.000000</td>\n",
       "      <td>219.990000</td>\n",
       "    </tr>\n",
       "    <tr>\n",
       "      <th>75%</th>\n",
       "      <td>32.000000</td>\n",
       "      <td>0.000000</td>\n",
       "      <td>1.000000</td>\n",
       "      <td>5.000000</td>\n",
       "      <td>354.500000</td>\n",
       "    </tr>\n",
       "    <tr>\n",
       "      <th>max</th>\n",
       "      <td>64.000000</td>\n",
       "      <td>2.000000</td>\n",
       "      <td>1.000000</td>\n",
       "      <td>5.000000</td>\n",
       "      <td>2252.000000</td>\n",
       "    </tr>\n",
       "  </tbody>\n",
       "</table>\n",
       "</div>"
      ],
      "text/plain": [
       "        Storage(GB)      warranty        unlock        Rating         Price\n",
       "count  15606.000000  15606.000000  15606.000000  15606.000000  15606.000000\n",
       "mean      23.721646      0.213700      0.412854      3.912662    272.968452\n",
       "std       12.960687      0.410399      0.492363      1.545382    187.584878\n",
       "min        8.000000      0.000000      0.000000      1.000000     30.990000\n",
       "25%       16.000000      0.000000      0.000000      3.000000    139.950000\n",
       "50%       16.000000      0.000000      0.000000      5.000000    219.990000\n",
       "75%       32.000000      0.000000      1.000000      5.000000    354.500000\n",
       "max       64.000000      2.000000      1.000000      5.000000   2252.000000"
      ]
     },
     "execution_count": 15,
     "metadata": {},
     "output_type": "execute_result"
    }
   ],
   "source": [
    "Data.describe()"
   ]
  },
  {
   "cell_type": "code",
   "execution_count": 16,
   "metadata": {},
   "outputs": [
    {
     "data": {
      "text/html": [
       "<div>\n",
       "<style>\n",
       "    .dataframe thead tr:only-child th {\n",
       "        text-align: right;\n",
       "    }\n",
       "\n",
       "    .dataframe thead th {\n",
       "        text-align: left;\n",
       "    }\n",
       "\n",
       "    .dataframe tbody tr th {\n",
       "        vertical-align: top;\n",
       "    }\n",
       "</style>\n",
       "<table border=\"1\" class=\"dataframe\">\n",
       "  <thead>\n",
       "    <tr style=\"text-align: right;\">\n",
       "      <th></th>\n",
       "      <th>color</th>\n",
       "      <th>Storage(GB)</th>\n",
       "      <th>carrier</th>\n",
       "      <th>warranty</th>\n",
       "      <th>unlock</th>\n",
       "      <th>phonetype</th>\n",
       "      <th>Price</th>\n",
       "    </tr>\n",
       "    <tr>\n",
       "      <th>Rating</th>\n",
       "      <th></th>\n",
       "      <th></th>\n",
       "      <th></th>\n",
       "      <th></th>\n",
       "      <th></th>\n",
       "      <th></th>\n",
       "      <th></th>\n",
       "    </tr>\n",
       "  </thead>\n",
       "  <tbody>\n",
       "    <tr>\n",
       "      <th>1</th>\n",
       "      <td>2663</td>\n",
       "      <td>2663</td>\n",
       "      <td>2663</td>\n",
       "      <td>2663</td>\n",
       "      <td>2663</td>\n",
       "      <td>2663</td>\n",
       "      <td>2663</td>\n",
       "    </tr>\n",
       "    <tr>\n",
       "      <th>2</th>\n",
       "      <td>819</td>\n",
       "      <td>819</td>\n",
       "      <td>819</td>\n",
       "      <td>819</td>\n",
       "      <td>819</td>\n",
       "      <td>819</td>\n",
       "      <td>819</td>\n",
       "    </tr>\n",
       "    <tr>\n",
       "      <th>3</th>\n",
       "      <td>940</td>\n",
       "      <td>940</td>\n",
       "      <td>940</td>\n",
       "      <td>940</td>\n",
       "      <td>940</td>\n",
       "      <td>940</td>\n",
       "      <td>940</td>\n",
       "    </tr>\n",
       "    <tr>\n",
       "      <th>4</th>\n",
       "      <td>1980</td>\n",
       "      <td>1980</td>\n",
       "      <td>1980</td>\n",
       "      <td>1980</td>\n",
       "      <td>1980</td>\n",
       "      <td>1980</td>\n",
       "      <td>1980</td>\n",
       "    </tr>\n",
       "    <tr>\n",
       "      <th>5</th>\n",
       "      <td>9204</td>\n",
       "      <td>9204</td>\n",
       "      <td>9204</td>\n",
       "      <td>9204</td>\n",
       "      <td>9204</td>\n",
       "      <td>9204</td>\n",
       "      <td>9204</td>\n",
       "    </tr>\n",
       "  </tbody>\n",
       "</table>\n",
       "</div>"
      ],
      "text/plain": [
       "        color  Storage(GB)  carrier  warranty  unlock  phonetype  Price\n",
       "Rating                                                                 \n",
       "1        2663         2663     2663      2663    2663       2663   2663\n",
       "2         819          819      819       819     819        819    819\n",
       "3         940          940      940       940     940        940    940\n",
       "4        1980         1980     1980      1980    1980       1980   1980\n",
       "5        9204         9204     9204      9204    9204       9204   9204"
      ]
     },
     "execution_count": 16,
     "metadata": {},
     "output_type": "execute_result"
    }
   ],
   "source": [
    "Data.groupby('Rating').count()"
   ]
  },
  {
   "cell_type": "code",
   "execution_count": 17,
   "metadata": {
    "collapsed": true
   },
   "outputs": [],
   "source": [
    "%matplotlib inline"
   ]
  },
  {
   "cell_type": "code",
   "execution_count": 18,
   "metadata": {},
   "outputs": [
    {
     "ename": "TypeError",
     "evalue": "'AxesSubplot' object does not support indexing",
     "output_type": "error",
     "traceback": [
      "\u001b[1;31m---------------------------------------------------------------------------\u001b[0m",
      "\u001b[1;31mTypeError\u001b[0m                                 Traceback (most recent call last)",
      "\u001b[1;32m<ipython-input-18-583a8c222022>\u001b[0m in \u001b[0;36m<module>\u001b[1;34m()\u001b[0m\n\u001b[1;32m----> 1\u001b[1;33m \u001b[0msns\u001b[0m\u001b[1;33m.\u001b[0m\u001b[0mkdeplot\u001b[0m\u001b[1;33m(\u001b[0m\u001b[0mData\u001b[0m\u001b[1;33m[\u001b[0m\u001b[1;34m'Rating'\u001b[0m\u001b[1;33m]\u001b[0m\u001b[1;33m,\u001b[0m\u001b[0mshade\u001b[0m\u001b[1;33m=\u001b[0m\u001b[0mTrue\u001b[0m\u001b[1;33m,\u001b[0m\u001b[0mcolor\u001b[0m\u001b[1;33m=\u001b[0m\u001b[1;34m\"green\"\u001b[0m\u001b[1;33m,\u001b[0m\u001b[0max\u001b[0m\u001b[1;33m=\u001b[0m\u001b[0max\u001b[0m\u001b[1;33m[\u001b[0m\u001b[1;36m0\u001b[0m\u001b[1;33m]\u001b[0m\u001b[1;33m)\u001b[0m\u001b[1;33m\u001b[0m\u001b[0m\n\u001b[0m",
      "\u001b[1;31mTypeError\u001b[0m: 'AxesSubplot' object does not support indexing"
     ]
    }
   ],
   "source": [
    "sns.kdeplot(Data['Rating'],shade=True,color=\"green\",ax=ax[0])"
   ]
  },
  {
   "cell_type": "code",
   "execution_count": 19,
   "metadata": {},
   "outputs": [
    {
     "data": {
      "image/png": "[encoded data removed]",
      "text/plain": [
       "<matplotlib.figure.Figure at 0x1cdc1630>"
      ]
     },
     "metadata": {},
     "output_type": "display_data"
    }
   ],
   "source": [
    "fig, ax =plt.subplots()\n",
    "fig.set_size_inches(4,2)\n",
    "ax.yaxis.label.set_size(50)\n",
    "sns.kdeplot(Data['Rating'],shade=True,color=\"green\",ax=ax)\n",
    "# sns.kdeplot(Data['Price'],shade=True,color=\"blue\",ax=ax)\n",
    "fig.show()"
   ]
  },
  {
   "cell_type": "code",
   "execution_count": null,
   "metadata": {
    "collapsed": true
   },
   "outputs": [],
   "source": []
  },
  {
   "cell_type": "code",
   "execution_count": null,
   "metadata": {
    "collapsed": true
   },
   "outputs": [],
   "source": []
  },
  {
   "cell_type": "code",
   "execution_count": null,
   "metadata": {
    "collapsed": true
   },
   "outputs": [],
   "source": []
  },
  {
   "cell_type": "code",
   "execution_count": 20,
   "metadata": {},
   "outputs": [
    {
     "data": {
      "image/png": "[encoded data removed]",
      "text/plain": [
       "<matplotlib.figure.Figure at 0x1cba6470>"
      ]
     },
     "metadata": {},
     "output_type": "display_data"
    }
   ],
   "source": [
    "fig, ax =plt.subplots()\n",
    "# sns.kdeplot(Data['Rating'],shade=True,color=\"green\",ax=ax)\n",
    "sns.regplot(x='Price',y='Rating',data=Data)\n",
    "fig.set_size_inches(4,2)\n",
    "fig.show()"
   ]
  },
  {
   "cell_type": "code",
   "execution_count": 21,
   "metadata": {
    "scrolled": false
   },
   "outputs": [
    {
     "data": {
      "image/png": "[encoded data removed]",
      "text/plain": [
       "<matplotlib.figure.Figure at 0x1cdc1940>"
      ]
     },
     "metadata": {},
     "output_type": "display_data"
    }
   ],
   "source": [
    "fig, ax =plt.subplots()\n",
    "# sns.kdeplot(Data['Rating'],shade=True,color=\"green\",ax=ax)\n",
    "sns.kdeplot(Data['Price'],shade=True,color=\"blue\",ax=ax)\n",
    "fig.set_size_inches(4,2)\n",
    "fig.show()"
   ]
  },
  {
   "cell_type": "code",
   "execution_count": 22,
   "metadata": {},
   "outputs": [
    {
     "data": {
      "image/png": "[encoded data removed]",
      "text/plain": [
       "<matplotlib.figure.Figure at 0x1cc0e550>"
      ]
     },
     "metadata": {},
     "output_type": "display_data"
    }
   ],
   "source": [
    "fig, ax =plt.subplots()\n",
    "# sns.kdeplot(Data['Rating'],shade=True,color=\"green\",ax=ax)\n",
    "sns.kdeplot(Data.groupby('unlock').mean()['Rating'],shade=True,color=\"blue\",ax=ax)\n",
    "fig.set_size_inches(4,2)\n",
    "fig.show()\n"
   ]
  },
  {
   "cell_type": "code",
   "execution_count": null,
   "metadata": {
    "collapsed": true
   },
   "outputs": [],
   "source": []
  },
  {
   "cell_type": "code",
   "execution_count": null,
   "metadata": {
    "collapsed": true
   },
   "outputs": [],
   "source": []
  }
 ],
 "metadata": {
  "kernelspec": {
   "display_name": "Python 2",
   "language": "python",
   "name": "python2"
  },
  "language_info": {
   "codemirror_mode": {
    "name": "ipython",
    "version": 2
   },
   "file_extension": ".py",
   "mimetype": "text/x-python",
   "name": "python",
   "nbconvert_exporter": "python",
   "pygments_lexer": "ipython2",
   "version": "2.7.13"
  }
 },
 "nbformat": 4,
 "nbformat_minor": 1
}
