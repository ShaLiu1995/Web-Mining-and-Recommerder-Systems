{
 "cells": [
  {
   "cell_type": "code",
   "execution_count": 1,
   "metadata": {},
   "outputs": [],
   "source": [
    "import csv\n",
    "import numpy\n",
    "from collections import defaultdict\n",
    "import nltk\n",
    "import seaborn as sns\n",
    "import string\n",
    "from nltk.stem.porter import *\n",
    "from nltk.corpus import stopwords\n",
    "import pandas as pd\n",
    "import matplotlib.pyplot as plt\n",
    "from matplotlib import pyplot"
   ]
  },
  {
   "cell_type": "code",
   "execution_count": 70,
   "metadata": {
    "collapsed": true
   },
   "outputs": [],
   "source": [
    "Data=pd.read_csv('FOR_PLOT.csv')\n",
    "Data=Data.dropna(axis=0)"
   ]
  },
  {
   "cell_type": "code",
   "execution_count": 71,
   "metadata": {},
   "outputs": [
    {
     "data": {
      "text/html": [
       "<div>\n",
       "<style>\n",
       "    .dataframe thead tr:only-child th {\n",
       "        text-align: right;\n",
       "    }\n",
       "\n",
       "    .dataframe thead th {\n",
       "        text-align: left;\n",
       "    }\n",
       "\n",
       "    .dataframe tbody tr th {\n",
       "        vertical-align: top;\n",
       "    }\n",
       "</style>\n",
       "<table border=\"1\" class=\"dataframe\">\n",
       "  <thead>\n",
       "    <tr style=\"text-align: right;\">\n",
       "      <th></th>\n",
       "      <th>color</th>\n",
       "      <th>Storage(GB)</th>\n",
       "      <th>carrier</th>\n",
       "      <th>warranty</th>\n",
       "      <th>unlock</th>\n",
       "      <th>phonetype</th>\n",
       "      <th>Rating</th>\n",
       "      <th>Price</th>\n",
       "    </tr>\n",
       "  </thead>\n",
       "  <tbody>\n",
       "    <tr>\n",
       "      <th>21988</th>\n",
       "      <td>white</td>\n",
       "      <td>16.0</td>\n",
       "      <td>internationalversion</td>\n",
       "      <td>0</td>\n",
       "      <td>1</td>\n",
       "      <td>samsunggalaxys4</td>\n",
       "      <td>1</td>\n",
       "      <td>168.68</td>\n",
       "    </tr>\n",
       "    <tr>\n",
       "      <th>11465</th>\n",
       "      <td>black</td>\n",
       "      <td>8.0</td>\n",
       "      <td>verizon</td>\n",
       "      <td>0</td>\n",
       "      <td>0</td>\n",
       "      <td>lg</td>\n",
       "      <td>5</td>\n",
       "      <td>79.95</td>\n",
       "    </tr>\n",
       "    <tr>\n",
       "      <th>66635</th>\n",
       "      <td>gray</td>\n",
       "      <td>8.0</td>\n",
       "      <td>sprint</td>\n",
       "      <td>0</td>\n",
       "      <td>0</td>\n",
       "      <td>iphone6</td>\n",
       "      <td>5</td>\n",
       "      <td>620.00</td>\n",
       "    </tr>\n",
       "    <tr>\n",
       "      <th>5876</th>\n",
       "      <td>black</td>\n",
       "      <td>32.0</td>\n",
       "      <td>internationalversion</td>\n",
       "      <td>0</td>\n",
       "      <td>1</td>\n",
       "      <td>lg</td>\n",
       "      <td>4</td>\n",
       "      <td>218.88</td>\n",
       "    </tr>\n",
       "    <tr>\n",
       "      <th>45286</th>\n",
       "      <td>pink</td>\n",
       "      <td>32.0</td>\n",
       "      <td>at&amp;t</td>\n",
       "      <td>0</td>\n",
       "      <td>0</td>\n",
       "      <td>iphone5c</td>\n",
       "      <td>5</td>\n",
       "      <td>540.00</td>\n",
       "    </tr>\n",
       "  </tbody>\n",
       "</table>\n",
       "</div>"
      ],
      "text/plain": [
       "       color  Storage(GB)               carrier  warranty  unlock  \\\n",
       "21988  white         16.0  internationalversion         0       1   \n",
       "11465  black          8.0               verizon         0       0   \n",
       "66635   gray          8.0                sprint         0       0   \n",
       "5876   black         32.0  internationalversion         0       1   \n",
       "45286   pink         32.0                  at&t         0       0   \n",
       "\n",
       "             phonetype  Rating   Price  \n",
       "21988  samsunggalaxys4       1  168.68  \n",
       "11465               lg       5   79.95  \n",
       "66635          iphone6       5  620.00  \n",
       "5876                lg       4  218.88  \n",
       "45286         iphone5c       5  540.00  "
      ]
     },
     "execution_count": 71,
     "metadata": {},
     "output_type": "execute_result"
    }
   ],
   "source": [
    "Data.sample(frac=0.1).head(n=5)"
   ]
  },
  {
   "cell_type": "code",
   "execution_count": 72,
   "metadata": {},
   "outputs": [
    {
     "data": {
      "text/html": [
       "<div>\n",
       "<style>\n",
       "    .dataframe thead tr:only-child th {\n",
       "        text-align: right;\n",
       "    }\n",
       "\n",
       "    .dataframe thead th {\n",
       "        text-align: left;\n",
       "    }\n",
       "\n",
       "    .dataframe tbody tr th {\n",
       "        vertical-align: top;\n",
       "    }\n",
       "</style>\n",
       "<table border=\"1\" class=\"dataframe\">\n",
       "  <thead>\n",
       "    <tr style=\"text-align: right;\">\n",
       "      <th></th>\n",
       "      <th>Storage(GB)</th>\n",
       "      <th>warranty</th>\n",
       "      <th>unlock</th>\n",
       "      <th>Rating</th>\n",
       "      <th>Price</th>\n",
       "    </tr>\n",
       "  </thead>\n",
       "  <tbody>\n",
       "    <tr>\n",
       "      <th>count</th>\n",
       "      <td>15606.000000</td>\n",
       "      <td>15606.000000</td>\n",
       "      <td>15606.000000</td>\n",
       "      <td>15606.000000</td>\n",
       "      <td>15606.000000</td>\n",
       "    </tr>\n",
       "    <tr>\n",
       "      <th>mean</th>\n",
       "      <td>23.721646</td>\n",
       "      <td>0.213700</td>\n",
       "      <td>0.412854</td>\n",
       "      <td>3.912662</td>\n",
       "      <td>272.968452</td>\n",
       "    </tr>\n",
       "    <tr>\n",
       "      <th>std</th>\n",
       "      <td>12.960687</td>\n",
       "      <td>0.410399</td>\n",
       "      <td>0.492363</td>\n",
       "      <td>1.545382</td>\n",
       "      <td>187.584878</td>\n",
       "    </tr>\n",
       "    <tr>\n",
       "      <th>min</th>\n",
       "      <td>8.000000</td>\n",
       "      <td>0.000000</td>\n",
       "      <td>0.000000</td>\n",
       "      <td>1.000000</td>\n",
       "      <td>30.990000</td>\n",
       "    </tr>\n",
       "    <tr>\n",
       "      <th>25%</th>\n",
       "      <td>16.000000</td>\n",
       "      <td>0.000000</td>\n",
       "      <td>0.000000</td>\n",
       "      <td>3.000000</td>\n",
       "      <td>139.950000</td>\n",
       "    </tr>\n",
       "    <tr>\n",
       "      <th>50%</th>\n",
       "      <td>16.000000</td>\n",
       "      <td>0.000000</td>\n",
       "      <td>0.000000</td>\n",
       "      <td>5.000000</td>\n",
       "      <td>219.990000</td>\n",
       "    </tr>\n",
       "    <tr>\n",
       "      <th>75%</th>\n",
       "      <td>32.000000</td>\n",
       "      <td>0.000000</td>\n",
       "      <td>1.000000</td>\n",
       "      <td>5.000000</td>\n",
       "      <td>354.500000</td>\n",
       "    </tr>\n",
       "    <tr>\n",
       "      <th>max</th>\n",
       "      <td>64.000000</td>\n",
       "      <td>2.000000</td>\n",
       "      <td>1.000000</td>\n",
       "      <td>5.000000</td>\n",
       "      <td>2252.000000</td>\n",
       "    </tr>\n",
       "  </tbody>\n",
       "</table>\n",
       "</div>"
      ],
      "text/plain": [
       "        Storage(GB)      warranty        unlock        Rating         Price\n",
       "count  15606.000000  15606.000000  15606.000000  15606.000000  15606.000000\n",
       "mean      23.721646      0.213700      0.412854      3.912662    272.968452\n",
       "std       12.960687      0.410399      0.492363      1.545382    187.584878\n",
       "min        8.000000      0.000000      0.000000      1.000000     30.990000\n",
       "25%       16.000000      0.000000      0.000000      3.000000    139.950000\n",
       "50%       16.000000      0.000000      0.000000      5.000000    219.990000\n",
       "75%       32.000000      0.000000      1.000000      5.000000    354.500000\n",
       "max       64.000000      2.000000      1.000000      5.000000   2252.000000"
      ]
     },
     "execution_count": 72,
     "metadata": {},
     "output_type": "execute_result"
    }
   ],
   "source": [
    "Data.describe()"
   ]
  },
  {
   "cell_type": "code",
   "execution_count": 73,
   "metadata": {
    "collapsed": true
   },
   "outputs": [],
   "source": [
    "%matplotlib inline"
   ]
  },
  {
   "cell_type": "code",
   "execution_count": 74,
   "metadata": {},
   "outputs": [
    {
     "data": {
      "image/png": "[encoded data removed]",
      "text/plain": [
       "<matplotlib.figure.Figure at 0x2fc3f518>"
      ]
     },
     "metadata": {},
     "output_type": "display_data"
    }
   ],
   "source": [
    "fig, ax =plt.subplots()\n",
    "fig.set_size_inches(4,2)\n",
    "ax.yaxis.label.set_size(50)\n",
    "sns.kdeplot(Data['Price'],shade=True,color=\"green\",ax=ax)\n",
    "# sns.kdeplot(Data['Price'],shade=True,color=\"blue\",ax=ax)\n",
    "fig.show()"
   ]
  },
  {
   "cell_type": "code",
   "execution_count": 75,
   "metadata": {},
   "outputs": [],
   "source": [
    "p = Data.groupby('color').count()['Rating']"
   ]
  },
  {
   "cell_type": "code",
   "execution_count": 78,
   "metadata": {},
   "outputs": [],
   "source": [
    "p = Data.groupby('color').mean()['Rating']"
   ]
  },
  {
   "cell_type": "code",
   "execution_count": 69,
   "metadata": {},
   "outputs": [
    {
     "data": {
      "text/plain": [
       "plotly.graph_objs.graph_objs.Data"
      ]
     },
     "execution_count": 69,
     "metadata": {},
     "output_type": "execute_result"
    }
   ],
   "source": [
    "Data"
   ]
  },
  {
   "cell_type": "code",
   "execution_count": null,
   "metadata": {
    "collapsed": true
   },
   "outputs": [],
   "source": []
  },
  {
   "cell_type": "code",
   "execution_count": 79,
   "metadata": {},
   "outputs": [
    {
     "data": {
      "text/plain": [
       "<matplotlib.axes._subplots.AxesSubplot at 0x3148d128>"
      ]
     },
     "execution_count": 79,
     "metadata": {},
     "output_type": "execute_result"
    },
    {
     "data": {
      "image/png": "[encoded data removed]",
      "text/plain": [
       "<matplotlib.figure.Figure at 0x31626278>"
      ]
     },
     "metadata": {},
     "output_type": "display_data"
    }
   ],
   "source": [
    "fig, ax =plt.subplots()\n",
    "ax.set_ylim(1,5)\n",
    "ax.set_title('Average ratings')\n",
    "p.plot(kind = 'bar', ax =ax)"
   ]
  },
  {
   "cell_type": "code",
   "execution_count": 64,
   "metadata": {},
   "outputs": [],
   "source": [
    "sns.set()\n"
   ]
  },
  {
   "cell_type": "code",
   "execution_count": 65,
   "metadata": {},
   "outputs": [
    {
     "data": {
      "text/plain": [
       "<matplotlib.axes._subplots.AxesSubplot at 0x2fa5f5f8>"
      ]
     },
     "execution_count": 65,
     "metadata": {},
     "output_type": "execute_result"
    },
    {
     "data": {
      "image/png": "[encoded data removed]",
      "text/plain": [
       "<matplotlib.figure.Figure at 0x30de6ef0>"
      ]
     },
     "metadata": {},
     "output_type": "display_data"
    }
   ],
   "source": [
    "fig, ax =plt.subplots()\n",
    "ax.set_ylim(1,5)\n",
    "ax.set_title('Average ratings')\n",
    "p.plot(kind = 'bar', ax =ax)"
   ]
  },
  {
   "cell_type": "code",
   "execution_count": 34,
   "metadata": {},
   "outputs": [
    {
     "data": {
      "image/png": "[encoded data removed]",
      "text/plain": [
       "<matplotlib.figure.Figure at 0x2d0edc18>"
      ]
     },
     "metadata": {},
     "output_type": "display_data"
    }
   ],
   "source": [
    "fig, ax =plt.subplots()\n",
    "# sns.kdeplot(Data['Rating'],shade=True,color=\"green\",ax=ax)\n",
    "sns.regplot(x='Price',y='Rating',data=Data)\n",
    "fig.set_size_inches(4,2)\n",
    "fig.show()"
   ]
  },
  {
   "cell_type": "code",
   "execution_count": 52,
   "metadata": {
    "collapsed": true
   },
   "outputs": [],
   "source": [
    "import numpy as np\n",
    "import pandas\n",
    "from matplotlib import pyplot as plt\n",
    "from matplotlib.pyplot import yticks\n",
    "import plotly.plotly as py\n",
    "from plotly.graph_objs import *\n",
    "import seaborn as sns"
   ]
  },
  {
   "cell_type": "code",
   "execution_count": 57,
   "metadata": {
    "collapsed": true
   },
   "outputs": [],
   "source": [
    "df = pandas.read_csv('FOR_PLOT.csv')"
   ]
  },
  {
   "cell_type": "code",
   "execution_count": 59,
   "metadata": {},
   "outputs": [
    {
     "data": {
      "text/html": [
       "<div>\n",
       "<style>\n",
       "    .dataframe thead tr:only-child th {\n",
       "        text-align: right;\n",
       "    }\n",
       "\n",
       "    .dataframe thead th {\n",
       "        text-align: left;\n",
       "    }\n",
       "\n",
       "    .dataframe tbody tr th {\n",
       "        vertical-align: top;\n",
       "    }\n",
       "</style>\n",
       "<table border=\"1\" class=\"dataframe\">\n",
       "  <thead>\n",
       "    <tr style=\"text-align: right;\">\n",
       "      <th></th>\n",
       "      <th>color</th>\n",
       "      <th>Storage(GB)</th>\n",
       "      <th>carrier</th>\n",
       "      <th>warranty</th>\n",
       "      <th>unlock</th>\n",
       "      <th>phonetype</th>\n",
       "      <th>Rating</th>\n",
       "      <th>Price</th>\n",
       "    </tr>\n",
       "  </thead>\n",
       "  <tbody>\n",
       "    <tr>\n",
       "      <th>0</th>\n",
       "      <td>black</td>\n",
       "      <td>NaN</td>\n",
       "      <td>NaN</td>\n",
       "      <td>0</td>\n",
       "      <td>1</td>\n",
       "      <td>samsung</td>\n",
       "      <td>1</td>\n",
       "      <td>89.99</td>\n",
       "    </tr>\n",
       "    <tr>\n",
       "      <th>1</th>\n",
       "      <td>black</td>\n",
       "      <td>NaN</td>\n",
       "      <td>internationalversion</td>\n",
       "      <td>1</td>\n",
       "      <td>1</td>\n",
       "      <td>sony</td>\n",
       "      <td>4</td>\n",
       "      <td>450.83</td>\n",
       "    </tr>\n",
       "    <tr>\n",
       "      <th>2</th>\n",
       "      <td>NaN</td>\n",
       "      <td>NaN</td>\n",
       "      <td>NaN</td>\n",
       "      <td>0</td>\n",
       "      <td>1</td>\n",
       "      <td>blu</td>\n",
       "      <td>1</td>\n",
       "      <td>69.87</td>\n",
       "    </tr>\n",
       "    <tr>\n",
       "      <th>3</th>\n",
       "      <td>black</td>\n",
       "      <td>NaN</td>\n",
       "      <td>NaN</td>\n",
       "      <td>0</td>\n",
       "      <td>1</td>\n",
       "      <td>blu</td>\n",
       "      <td>5</td>\n",
       "      <td>150.00</td>\n",
       "    </tr>\n",
       "    <tr>\n",
       "      <th>4</th>\n",
       "      <td>black</td>\n",
       "      <td>NaN</td>\n",
       "      <td>NaN</td>\n",
       "      <td>0</td>\n",
       "      <td>0</td>\n",
       "      <td>applewatch</td>\n",
       "      <td>5</td>\n",
       "      <td>59.99</td>\n",
       "    </tr>\n",
       "    <tr>\n",
       "      <th>5</th>\n",
       "      <td>black</td>\n",
       "      <td>32.0</td>\n",
       "      <td>internationalversion</td>\n",
       "      <td>1</td>\n",
       "      <td>1</td>\n",
       "      <td>nokia</td>\n",
       "      <td>5</td>\n",
       "      <td>337.00</td>\n",
       "    </tr>\n",
       "    <tr>\n",
       "      <th>6</th>\n",
       "      <td>black</td>\n",
       "      <td>NaN</td>\n",
       "      <td>NaN</td>\n",
       "      <td>0</td>\n",
       "      <td>1</td>\n",
       "      <td>blackberry</td>\n",
       "      <td>2</td>\n",
       "      <td>104.95</td>\n",
       "    </tr>\n",
       "    <tr>\n",
       "      <th>7</th>\n",
       "      <td>white</td>\n",
       "      <td>NaN</td>\n",
       "      <td>NaN</td>\n",
       "      <td>0</td>\n",
       "      <td>1</td>\n",
       "      <td>blu</td>\n",
       "      <td>5</td>\n",
       "      <td>26.41</td>\n",
       "    </tr>\n",
       "    <tr>\n",
       "      <th>8</th>\n",
       "      <td>black</td>\n",
       "      <td>NaN</td>\n",
       "      <td>NaN</td>\n",
       "      <td>1</td>\n",
       "      <td>1</td>\n",
       "      <td>blackberry</td>\n",
       "      <td>5</td>\n",
       "      <td>85.00</td>\n",
       "    </tr>\n",
       "    <tr>\n",
       "      <th>9</th>\n",
       "      <td>black</td>\n",
       "      <td>16.0</td>\n",
       "      <td>NaN</td>\n",
       "      <td>0</td>\n",
       "      <td>1</td>\n",
       "      <td>samsunggalaxys2</td>\n",
       "      <td>2</td>\n",
       "      <td>69.99</td>\n",
       "    </tr>\n",
       "  </tbody>\n",
       "</table>\n",
       "</div>"
      ],
      "text/plain": [
       "   color  Storage(GB)               carrier  warranty  unlock  \\\n",
       "0  black          NaN                   NaN         0       1   \n",
       "1  black          NaN  internationalversion         1       1   \n",
       "2    NaN          NaN                   NaN         0       1   \n",
       "3  black          NaN                   NaN         0       1   \n",
       "4  black          NaN                   NaN         0       0   \n",
       "5  black         32.0  internationalversion         1       1   \n",
       "6  black          NaN                   NaN         0       1   \n",
       "7  white          NaN                   NaN         0       1   \n",
       "8  black          NaN                   NaN         1       1   \n",
       "9  black         16.0                   NaN         0       1   \n",
       "\n",
       "         phonetype  Rating   Price  \n",
       "0          samsung       1   89.99  \n",
       "1             sony       4  450.83  \n",
       "2              blu       1   69.87  \n",
       "3              blu       5  150.00  \n",
       "4       applewatch       5   59.99  \n",
       "5            nokia       5  337.00  \n",
       "6       blackberry       2  104.95  \n",
       "7              blu       5   26.41  \n",
       "8       blackberry       5   85.00  \n",
       "9  samsunggalaxys2       2   69.99  "
      ]
     },
     "execution_count": 59,
     "metadata": {},
     "output_type": "execute_result"
    }
   ],
   "source": [
    "df.head(10)"
   ]
  }
 ],
 "metadata": {
  "kernelspec": {
   "display_name": "Python 3",
   "language": "python",
   "name": "python3"
  },
  "language_info": {
   "codemirror_mode": {
    "name": "ipython",
    "version": 3
   },
   "file_extension": ".py",
   "mimetype": "text/x-python",
   "name": "python",
   "nbconvert_exporter": "python",
   "pygments_lexer": "ipython3",
   "version": "3.6.2"
  }
 },
 "nbformat": 4,
 "nbformat_minor": 1
}
