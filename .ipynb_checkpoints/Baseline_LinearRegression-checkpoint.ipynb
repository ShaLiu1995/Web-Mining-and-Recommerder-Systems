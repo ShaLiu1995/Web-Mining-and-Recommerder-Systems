{
 "cells": [
  {
   "cell_type": "code",
   "execution_count": 178,
   "metadata": {
    "collapsed": true
   },
   "outputs": [],
   "source": [
    "import csv\n",
    "from collections import defaultdict\n",
    "import random\n",
    "import numpy\n",
    "import sklearn\n",
    "from sklearn import linear_model\n",
    "import scipy.optimize\n",
    "import pandas\n",
    "import math"
   ]
  },
  {
   "cell_type": "code",
   "execution_count": 60,
   "metadata": {},
   "outputs": [
    {
     "data": {
      "text/plain": [
       "85551"
      ]
     },
     "execution_count": 60,
     "metadata": {},
     "output_type": "execute_result"
    }
   ],
   "source": [
    "data = []\n",
    "with open(\"new_shuffle_data_without_NA.csv\",'rb') as my_file:\n",
    "    reader = csv.reader(my_file)\n",
    "    data = list(reader)\n",
    "priceList = [d[2] for d in data]\n",
    "len(priceList)"
   ]
  },
  {
   "cell_type": "code",
   "execution_count": 64,
   "metadata": {},
   "outputs": [
    {
     "name": "stdout",
     "output_type": "stream",
     "text": [
      "85551\n",
      "[['color', 'gigabyte', 'carrier', 'warranty', 'unlock', 'phonetype'], ['black', '0', 'NA', '0', '1', 'samsung'], ['black', '0', 'internationalversion', '1', '1', 'sony'], ['NA', '0', 'NA', '0', '1', 'blu'], ['black', '0', 'NA', '0', '1', 'blu'], ['black', '0', 'NA', '0', '0', 'applewatch'], ['black', '32', 'internationalversion', '1', '1', 'nokia'], ['black', '0', 'NA', '0', '1', 'blackberry'], ['white', '0', 'NA', '0', '1', 'blu'], ['black', '0', 'NA', '1', '1', 'blackberry']]\n"
     ]
    }
   ],
   "source": [
    "propertyList = []\n",
    "with open(\"property_feature_update2.csv\",'r') as my_file:\n",
    "    reader = csv.reader(my_file)\n",
    "    propertyList = list(reader)\n",
    "print len(propertyList)\n",
    "print propertyList[:10]\n",
    "    \n",
    "colorSet = set([f[0] for f in propertyList[1:]])\n",
    "colorDict = {v:k for k,v in dict(enumerate(sorted(list(colorSet)))).iteritems()}\n",
    "\n",
    "storageSet = set([int(f[1]) for f in propertyList[1:]])\n",
    "storageDict = {str(v):k for k,v in dict(enumerate(sorted(list(storageSet)))).iteritems()}\n",
    "\n",
    "carrierSet = set([f[2] for f in propertyList[1:]])\n",
    "carrierDict = {v:k for k,v in dict(enumerate(sorted(list(carrierSet)))).iteritems()}\n",
    "\n",
    "phonetypeSet = set([f[5] for f in propertyList[1:]])\n",
    "phonetypeDict = {v:k for k,v in dict(enumerate(sorted(list(phonetypeSet)))).iteritems()}\n",
    "\n",
    "warrantyDict = {'0': 0 , '1': 1, '2': 2}\n",
    "unlockDict = {'0': 0 , '1': 1}"
   ]
  },
  {
   "cell_type": "code",
   "execution_count": 72,
   "metadata": {
    "collapsed": true
   },
   "outputs": [],
   "source": [
    "with open('property_feature_encoded2.csv', 'wb') as out_file:\n",
    "    writer = csv.writer(out_file,delimiter = ',')\n",
    "    writer.writerow(propertyList[0] + ['price'])\n",
    "    count = 1\n",
    "    for r in propertyList[1:]:\n",
    "        d = []\n",
    "        d.append(colorDict[str(r[0])])\n",
    "        d.append(storageDict[str(r[1])])\n",
    "        d.append(carrierDict[str(r[2])])\n",
    "        d.append(warrantyDict[str(r[3])])\n",
    "        d.append(unlockDict[str(r[4])])\n",
    "        d.append(phonetypeDict[str(r[5])])\n",
    "        d.append(priceList[count])\n",
    "        count += 1\n",
    "        writer.writerow(d)"
   ]
  },
  {
   "cell_type": "code",
   "execution_count": 73,
   "metadata": {
    "collapsed": true
   },
   "outputs": [],
   "source": [
    "features = []\n",
    "with open(\"property_feature_encoded2.csv\",'rb') as my_file:\n",
    "    reader = csv.reader(my_file)\n",
    "    features = list(reader)"
   ]
  },
  {
   "cell_type": "code",
   "execution_count": 106,
   "metadata": {
    "collapsed": true
   },
   "outputs": [],
   "source": [
    "def feature(datum):\n",
    "    feat_color = [0] * len(colorDict)\n",
    "    feat_storage = [0] * len(storageDict)\n",
    "    feat_carrier = [0] * len(carrierDict)\n",
    "    feat_warranty = [0] * len(warrantyDict)\n",
    "    feat_unlock = [0] * len(unlockDict)\n",
    "    feat_phonetype = [0] * len(phonetypeDict)\n",
    "    \n",
    "    feat_color[int(datum[0])] = 1\n",
    "    feat_storage[int(datum[1])] = 1\n",
    "    feat_carrier[int(datum[2])] = 1\n",
    "    feat_warranty[int(datum[3])] = 1\n",
    "    feat_unlock[int(datum[4])] = 1\n",
    "    feat_phonetype[int(datum[5])] = 1\n",
    "    feat_price = [float(datum[6])]\n",
    "    \n",
    "    feat = [1] + feat_color + feat_storage + feat_carrier + feat_warranty + \\\n",
    "    feat_unlock + feat_phonetype + feat_price\n",
    "    \n",
    "    return feat\n"
   ]
  },
  {
   "cell_type": "code",
   "execution_count": 146,
   "metadata": {
    "collapsed": true
   },
   "outputs": [],
   "source": [
    "def getAcc(predictions, y):\n",
    "    acc = sum([y[i] == predictions[i] for i in xrange(len(y))])\n",
    "    acc /= 1.0 * len(y)\n",
    "    print acc"
   ]
  },
  {
   "cell_type": "code",
   "execution_count": 160,
   "metadata": {
    "collapsed": true
   },
   "outputs": [],
   "source": [
    "def regression(X, y, X_test):\n",
    "    clf = linear_model.Ridge(1.0, fit_intercept=False)\n",
    "    clf.fit(X, y)\n",
    "    theta = clf.coef_\n",
    "    predictions = clf.predict(X_test)\n",
    "    print theta\n",
    "    return predictions\n"
   ]
  },
  {
   "cell_type": "code",
   "execution_count": 161,
   "metadata": {
    "collapsed": true
   },
   "outputs": [],
   "source": [
    "def approx(predictions):\n",
    "    predictions = [int(round(i)) for i in predictions]\n",
    "\n",
    "    for i in xrange(len(predictions)):\n",
    "        if predictions[i] < 1:\n",
    "            predictions[i] = 1\n",
    "        elif predictions[i] > 5:\n",
    "            predictions[i] = 5\n",
    "\n",
    "    return predictions"
   ]
  },
  {
   "cell_type": "code",
   "execution_count": 162,
   "metadata": {
    "collapsed": true
   },
   "outputs": [],
   "source": [
    "def f(theta, X, y, lam):\n",
    "  loglikelihood = 0\n",
    "  for i in range(len(X)):\n",
    "    logit = inner(X[i], theta)\n",
    "    loglikelihood -= math.log(1 + math.exp(-logit))\n",
    "    if not y[i]:\n",
    "      loglikelihood -= logit\n",
    "  for k in range(len(theta)):\n",
    "    loglikelihood -= lam * theta[k]*theta[k]\n",
    "  # for debugging\n",
    "  print(\"ll = \" + str(loglikelihood))\n",
    "  return -loglikelihood"
   ]
  },
  {
   "cell_type": "code",
   "execution_count": 163,
   "metadata": {
    "collapsed": true
   },
   "outputs": [],
   "source": [
    "def fprime(theta, X, y, lam):\n",
    "  dl = [0]*len(theta)\n",
    "  for i in range(len(X)):\n",
    "    logit = inner(X[i], theta)\n",
    "    for k in range(len(theta)):\n",
    "      dl[k] += X[i][k] * (1 - sigmoid(logit))\n",
    "      if not y[i]:\n",
    "        dl[k] -= X[i][k]\n",
    "  for k in range(len(theta)):\n",
    "    dl[k] -= lam*2*theta[k]\n",
    "  return numpy.array([-x for x in dl])"
   ]
  },
  {
   "cell_type": "code",
   "execution_count": 181,
   "metadata": {
    "collapsed": true
   },
   "outputs": [],
   "source": [
    "def inner(x, y):\n",
    "  sum = 0\n",
    "  for a,b in zip(x,y):\n",
    "    sum += a*b\n",
    "  return sum"
   ]
  },
  {
   "cell_type": "code",
   "execution_count": 182,
   "metadata": {
    "collapsed": true
   },
   "outputs": [],
   "source": [
    "def sigmoid(x):\n",
    "  return 1.0 / (1 + math.exp(-x))"
   ]
  },
  {
   "cell_type": "code",
   "execution_count": 202,
   "metadata": {
    "collapsed": true
   },
   "outputs": [],
   "source": [
    "def regression2(X, y, X_test):\n",
    "    lam = 1.0\n",
    "    theta,_,_ = scipy.optimize.fmin_l_bfgs_b(f, [0]*len(X[0]), fprime, pgtol = 1, args = (X, y, lam))\n",
    "    predictions = [inner(x,theta) for x in X_test]\n",
    "    print theta\n",
    "    return predictions\n"
   ]
  },
  {
   "cell_type": "code",
   "execution_count": 166,
   "metadata": {
    "collapsed": true
   },
   "outputs": [],
   "source": [
    "data_train = data[1:50001]\n",
    "data_test = data[50001:]\n",
    "features_train = features[1:50001]\n",
    "features_test = features[50001:]\n",
    "\n",
    "X_train = [feature(d) for d in features_train]\n",
    "y_train = [int(d[3]) for d in data_train]\n",
    "X_test = [feature(d) for d in features_test]\n",
    "y_test = [int(d[3]) for d in data_test]"
   ]
  },
  {
   "cell_type": "code",
   "execution_count": 193,
   "metadata": {
    "collapsed": true
   },
   "outputs": [],
   "source": [
    "def getCat(predictions):\n",
    "    cats = pandas.qcut(predictions,5,labels=['q1','q2','q3','q4','q5'])\n",
    "    catDict = {'q1':1, 'q2':2, 'q3':3, 'q4':4, 'q5':5}\n",
    "    catList = list(cats)\n",
    "    catPredictions = [0] * len(catList)\n",
    "    for i in xrange(len(catList)):   \n",
    "        catPredictions[i] = catDict[catList[i]]\n",
    "    return catPredictions\n"
   ]
  },
  {
   "cell_type": "code",
   "execution_count": 203,
   "metadata": {},
   "outputs": [
    {
     "name": "stdout",
     "output_type": "stream",
     "text": [
      "ll = -34657.359028\n",
      "ll = -1.10003236732\n",
      "ll = -1.10003202781\n",
      "ll = -1.10003066975\n",
      "ll = -1.10002523755\n",
      "ll = -1.10000350947\n",
      "ll = -1.09991660846\n",
      "ll = -1.09956918561\n",
      "ll = -1.09818239726\n",
      "ll = -1.09268196615\n",
      "ll = -1.07144586351\n",
      "ll = -1.00006938123\n",
      "[  9.34855712e-03   5.90446072e-03   1.69219623e-03   3.01232986e-04\n",
      "   1.58180188e-04   7.71664994e-05   8.12315125e-05   2.85693968e-04\n",
      "   7.74205025e-04   7.41899916e-05   7.40154150e-03   2.94582213e-04\n",
      "   7.47344533e-04   7.16056827e-04   1.77852727e-04   1.11793138e-05\n",
      "   2.81890150e-03   1.22448018e-03   5.66014274e-04   1.40193552e-04\n",
      "   6.93289838e-05   4.52963863e-03   8.61717561e-03   4.17276068e-04\n",
      "   3.14105434e-04   5.45310742e-03   3.89544969e-03   8.10330200e-05\n",
      "   1.60212635e-04   7.14335856e-04   5.77462124e-04   1.34525111e-04\n",
      "   7.65129659e-05   4.60239352e-05   6.31558637e-06   1.66237849e-05\n",
      "   1.34224359e-04   5.29928512e-05   1.77997906e-04   1.15277600e-04\n",
      "   8.26109187e-05   2.90371787e-05   1.47363682e-05   2.72949480e-05\n",
      "   4.55932198e-03   1.29464177e-04   1.22390865e-03   3.69057311e-04\n",
      "   2.19230699e-05   7.25929468e-08   1.23408010e-06   3.26668261e-05\n",
      "   3.20134895e-05   1.74223072e-05   3.39734991e-05   6.71484758e-05\n",
      "   1.25730984e-04   1.02646427e-04   5.76458528e-05   1.88741662e-06\n",
      "   1.25222834e-04   9.18532854e-01]\n"
     ]
    }
   ],
   "source": [
    "predictions =  approx(regression2(X_train, y_train, X_test))"
   ]
  },
  {
   "cell_type": "code",
   "execution_count": 204,
   "metadata": {},
   "outputs": [
    {
     "name": "stdout",
     "output_type": "stream",
     "text": [
      "0.541603375527\n"
     ]
    }
   ],
   "source": [
    "getAcc(predictions, y_test)"
   ]
  }
 ],
 "metadata": {
  "kernelspec": {
   "display_name": "Python 3",
   "language": "python",
   "name": "python3"
  },
  "language_info": {
   "codemirror_mode": {
    "name": "ipython",
    "version": 3
   },
   "file_extension": ".py",
   "mimetype": "text/x-python",
   "name": "python",
   "nbconvert_exporter": "python",
   "pygments_lexer": "ipython3",
   "version": "3.6.2"
  }
 },
 "nbformat": 4,
 "nbformat_minor": 2
}
