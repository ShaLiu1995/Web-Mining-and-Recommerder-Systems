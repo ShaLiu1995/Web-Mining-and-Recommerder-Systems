{
 "cells": [
  {
   "cell_type": "code",
   "execution_count": 1,
   "metadata": {
    "collapsed": true
   },
   "outputs": [],
   "source": [
    "import csv\n",
    "from collections import defaultdict\n",
    "import random\n",
    "import numpy\n",
    "import sklearn"
   ]
  },
  {
   "cell_type": "code",
   "execution_count": 3,
   "metadata": {},
   "outputs": [],
   "source": [
    "data = []\n",
    "with open(\"new_shuffle_data.csv\",'rb') as my_file:\n",
    "    reader = csv.reader(my_file)\n",
    "    data = list(reader)"
   ]
  },
  {
   "cell_type": "code",
   "execution_count": 8,
   "metadata": {
    "collapsed": true
   },
   "outputs": [],
   "source": [
    "unigramsData = []\n",
    "with open(\"unigram_tf_idf.csv\",'rb') as my_file2:\n",
    "    reader2 = csv.reader(my_file2)\n",
    "    unigramsData = list(reader2)"
   ]
  },
  {
   "cell_type": "code",
   "execution_count": 10,
   "metadata": {},
   "outputs": [
    {
     "data": {
      "text/plain": [
       "2001"
      ]
     },
     "execution_count": 10,
     "metadata": {},
     "output_type": "execute_result"
    }
   ],
   "source": [
    "len(unigramsData)"
   ]
  },
  {
   "cell_type": "code",
   "execution_count": 12,
   "metadata": {},
   "outputs": [
    {
     "data": {
      "text/plain": [
       "['phone', '51115', '0.30738218082606977', '15711.840172924556']"
      ]
     },
     "execution_count": 12,
     "metadata": {},
     "output_type": "execute_result"
    }
   ],
   "source": [
    "unigramsData[1]"
   ]
  },
  {
   "cell_type": "code",
   "execution_count": 43,
   "metadata": {},
   "outputs": [
    {
     "data": {
      "text/plain": [
       "['Samsung S5830 Galaxy Ace - Unlocked Phone - Black',\n",
       " 'Samsung',\n",
       " '89.99',\n",
       " '1',\n",
       " 'I bought this as a gift. My husband has had nothing but problems with this phone. He took it to a T-mobile store and was told it is not compatible with their network. I bought it because the description says it works on GSM carriers like ATT and T-mobile. So That is obviously deceptive.',\n",
       " '0']"
      ]
     },
     "execution_count": 43,
     "metadata": {},
     "output_type": "execute_result"
    }
   ],
   "source": [
    "data[1]"
   ]
  },
  {
   "cell_type": "code",
   "execution_count": 38,
   "metadata": {
    "collapsed": true
   },
   "outputs": [],
   "source": [
    "unigramsDict = { u[0] : int(u[1]) for u in unigramsData[1:]}"
   ]
  },
  {
   "cell_type": "code",
   "execution_count": 39,
   "metadata": {
    "collapsed": true,
    "scrolled": false
   },
   "outputs": [],
   "source": [
    "mostPopularUnigramsList = sorted(unigramsDict.items(), key=lambda x: x[1], reverse = True)"
   ]
  },
  {
   "cell_type": "code",
   "execution_count": 40,
   "metadata": {
    "collapsed": true
   },
   "outputs": [],
   "source": [
    "mostPopularUnigramsList = [u[0] for u in mostPopularUnigramsList]"
   ]
  },
  {
   "cell_type": "code",
   "execution_count": 42,
   "metadata": {},
   "outputs": [
    {
     "data": {
      "text/plain": [
       "2000"
      ]
     },
     "execution_count": 42,
     "metadata": {},
     "output_type": "execute_result"
    }
   ],
   "source": [
    "len(mostPopularUnigramsList)"
   ]
  },
  {
   "cell_type": "code",
   "execution_count": 143,
   "metadata": {
    "collapsed": true
   },
   "outputs": [],
   "source": [
    "def feature(datum):\n",
    "    feat = [1] + [1 if w in datum[4] else 0 for w in mostPopularUnigramsList[:100]]\n",
    "    return feat"
   ]
  },
  {
   "cell_type": "code",
   "execution_count": 144,
   "metadata": {
    "collapsed": true
   },
   "outputs": [],
   "source": [
    "X = [feature(d) for d in data[1:]]\n",
    "y = [int(d[3]) for d in data[1:]]"
   ]
  },
  {
   "cell_type": "code",
   "execution_count": 106,
   "metadata": {
    "collapsed": true
   },
   "outputs": [],
   "source": [
    "from sklearn import linear_model\n",
    "clf = linear_model.Ridge(1.0, fit_intercept=False)\n",
    "clf.fit(X, y)\n",
    "theta = clf.coef_\n",
    "predictions = clf.predict(X)"
   ]
  },
  {
   "cell_type": "code",
   "execution_count": 107,
   "metadata": {
    "collapsed": true
   },
   "outputs": [],
   "source": [
    "predictions =[int(round(i)) for i in predictions]"
   ]
  },
  {
   "cell_type": "code",
   "execution_count": 108,
   "metadata": {},
   "outputs": [
    {
     "name": "stdout",
     "output_type": "stream",
     "text": [
      "1.36488311377\n"
     ]
    }
   ],
   "source": [
    "MSE = 0\n",
    "for i in range(len(predictions)):\n",
    "    MSE += (y[i] - predictions[i])**2\n",
    "MSE /= len(y) * 1.0\n",
    "print MSE"
   ]
  },
  {
   "cell_type": "code",
   "execution_count": 65,
   "metadata": {},
   "outputs": [
    {
     "data": {
      "text/plain": [
       "2000"
      ]
     },
     "execution_count": 65,
     "metadata": {},
     "output_type": "execute_result"
    }
   ],
   "source": [
    "len(mostPopularUnigramsList)"
   ]
  },
  {
   "cell_type": "code",
   "execution_count": 86,
   "metadata": {
    "collapsed": true
   },
   "outputs": [],
   "source": [
    "import numpy\n",
    "theta,residuals,rank,s = numpy.linalg.lstsq(X, y)"
   ]
  },
  {
   "cell_type": "code",
   "execution_count": 88,
   "metadata": {
    "collapsed": true
   },
   "outputs": [],
   "source": [
    "def inner(x, y):\n",
    "    sum = 0\n",
    "    for a,b in zip(x,y):\n",
    "        sum += a*b\n",
    "    return sum"
   ]
  },
  {
   "cell_type": "code",
   "execution_count": 89,
   "metadata": {
    "collapsed": true
   },
   "outputs": [],
   "source": [
    "predictions = [inner(x,theta) for x in X]"
   ]
  },
  {
   "cell_type": "code",
   "execution_count": 91,
   "metadata": {},
   "outputs": [
    {
     "name": "stdout",
     "output_type": "stream",
     "text": [
      "1.40291178942\n"
     ]
    }
   ],
   "source": [
    "MSE = 0\n",
    "for i in range(len(predictions)):\n",
    "    MSE += (y[i] - predictions[i])**2\n",
    "MSE /= len(y) * 1.0\n",
    "print MSE"
   ]
  },
  {
   "cell_type": "code",
   "execution_count": 125,
   "metadata": {
    "collapsed": true
   },
   "outputs": [],
   "source": [
    "import numpy\n",
    "import scipy\n",
    "from math import exp\n",
    "from math import log"
   ]
  },
  {
   "cell_type": "code",
   "execution_count": 126,
   "metadata": {
    "collapsed": true
   },
   "outputs": [],
   "source": [
    "def sigmoid(x):\n",
    "    return 1.0 / (1 + exp(-x))"
   ]
  },
  {
   "cell_type": "code",
   "execution_count": 127,
   "metadata": {
    "collapsed": true
   },
   "outputs": [],
   "source": [
    "def f(theta, X, y, lam):\n",
    "    fracPos = sum(y) / len(y)\n",
    "    fracNeg = 1 - fracPos\n",
    "    loglikelihood = 0\n",
    "    for i in range(len(X)):\n",
    "        logit = inner(X[i], theta)\n",
    "        if y[i]:\n",
    "        #loglikelihood -= 0.5/fracPos * log(1 + exp(-logit)) # balanced\n",
    "            loglikelihood -= log(1 + exp(-logit))\n",
    "        if not y[i]:\n",
    "        #loglikelihood -= 0.5/fracNeg * (log(1 + exp(-logit)) + logit) # balanced\n",
    "              loglikelihood -= (log(1 + exp(-logit)) + logit)\n",
    "    for k in range(len(theta)):\n",
    "        loglikelihood -= lam * theta[k]*theta[k]\n",
    "        # for debugging\n",
    "        # print(\"ll =\" + str(loglikelihood))\n",
    "    return -loglikelihood"
   ]
  },
  {
   "cell_type": "code",
   "execution_count": 128,
   "metadata": {
    "collapsed": true
   },
   "outputs": [],
   "source": [
    "def fprime(theta, X, y, lam):\n",
    "    fracPos = sum(y) / len(y)\n",
    "    fracNeg = 1 - fracPos\n",
    "    dl = [0]*len(theta)\n",
    "    for i in range(len(X)):\n",
    "        logit = inner(X[i], theta)\n",
    "    for k in range(len(theta)):\n",
    "        if y[i]:\n",
    "        #dl[k] += 0.5/fracPos * (X[i][k] * (1 - sigmoid(logit))) # balanced\n",
    "            dl[k] += X[i][k] * (1 - sigmoid(logit))\n",
    "        if not y[i]:\n",
    "        #dl[k] += 0.5/fracNeg * (X[i][k] * (1 - sigmoid(logit)) - X[i][k]) # balanced\n",
    "            dl[k] += X[i][k] * (1 - sigmoid(logit)) - X[i][k]\n",
    "    for k in range(len(theta)):\n",
    "        dl[k] -= lam*2*theta[k]\n",
    "    return numpy.array([-x for x in dl])"
   ]
  },
  {
   "cell_type": "code",
   "execution_count": 129,
   "metadata": {
    "collapsed": true
   },
   "outputs": [],
   "source": [
    "def train(lam):\n",
    "    theta,_,_ = scipy.optimize.fmin_l_bfgs_b(f, [0]*len(X[0]), fprime, pgtol = 10, args = (X, y, lam))\n",
    "    return theta"
   ]
  },
  {
   "cell_type": "code",
   "execution_count": null,
   "metadata": {
    "collapsed": true
   },
   "outputs": [],
   "source": [
    "prediction = [inner(theta,x) for x in X]"
   ]
  },
  {
   "cell_type": "code",
   "execution_count": null,
   "metadata": {
    "collapsed": true
   },
   "outputs": [],
   "source": [
    "MSE = 0\n",
    "for i in range(len(predictions)):\n",
    "    MSE += (y[i] - predictions[i])**2\n",
    "MSE /= len(y) * 1.0\n",
    "print MSE"
   ]
  },
  {
   "cell_type": "code",
   "execution_count": 145,
   "metadata": {
    "collapsed": true
   },
   "outputs": [],
   "source": [
    "def f(theta, X, y, lam):\n",
    "    theta = numpy.matrix(theta).T\n",
    "    X = numpy.matrix(X)\n",
    "    y = numpy.matrix(y).T\n",
    "    diff = X*theta - y\n",
    "    diffSq = diff.T*diff\n",
    "    diffSqReg = diffSq / len(X) + lam*(theta.T*theta)\n",
    "    # print \"offset =\", diffSqReg.flatten().tolist()\n",
    "    return diffSqReg.flatten().tolist()[0]"
   ]
  },
  {
   "cell_type": "code",
   "execution_count": 146,
   "metadata": {
    "collapsed": true
   },
   "outputs": [],
   "source": [
    "# Derivative\n",
    "def fprime(theta, X, y, lam):\n",
    "    theta = numpy.matrix(theta).T\n",
    "    X = numpy.matrix(X)\n",
    "    y = numpy.matrix(y).T\n",
    "    diff = X*theta - y\n",
    "    res = 2*X.T*diff / len(X) + 2*lam*theta\n",
    "    # print \"gradient =\", numpy.array(res.flatten().tolist()[0])\n",
    "    return numpy.array(res.flatten().tolist()[0])"
   ]
  },
  {
   "cell_type": "code",
   "execution_count": 150,
   "metadata": {
    "collapsed": true
   },
   "outputs": [],
   "source": [
    "theta,_,_ = scipy.optimize.fmin_l_bfgs_b(f, [0]*len(X[0]), fprime, args = (X, y, 1))"
   ]
  },
  {
   "cell_type": "code",
   "execution_count": 151,
   "metadata": {
    "collapsed": true
   },
   "outputs": [],
   "source": [
    "prediction = [inner(theta,x) for x in X]"
   ]
  },
  {
   "cell_type": "code",
   "execution_count": 152,
   "metadata": {},
   "outputs": [
    {
     "name": "stdout",
     "output_type": "stream",
     "text": [
      "1.36488311377\n"
     ]
    }
   ],
   "source": [
    "MSE = 0\n",
    "for i in range(len(predictions)):\n",
    "    MSE += (y[i] - predictions[i])**2\n",
    "MSE /= len(y) * 1.0\n",
    "print MSE"
   ]
  },
  {
   "cell_type": "code",
   "execution_count": 4,
   "metadata": {
    "collapsed": true
   },
   "outputs": [],
   "source": [
    "brandReviewsDict = defaultdict(list)\n",
    "for r in data[1:]:\n",
    "    brandReviewsDict[r[1]].append(r)"
   ]
  },
  {
   "cell_type": "code",
   "execution_count": 5,
   "metadata": {
    "collapsed": true
   },
   "outputs": [],
   "source": [
    "brandList = brandReviewsDict.keys()"
   ]
  },
  {
   "cell_type": "code",
   "execution_count": 6,
   "metadata": {},
   "outputs": [
    {
     "name": "stdout",
     "output_type": "stream",
     "text": [
      "139.0\n"
     ]
    }
   ],
   "source": [
    "for d in data[1:]:\n",
    "    priceSum = 0.0\n",
    "    count = 0\n",
    "    if d[2] != 'NA':\n",
    "        priceSum += float(d[2])\n",
    "        count += 1\n",
    "globalAvgPrc = priceSum * 1.0 / count\n",
    "print globalAvgPrc"
   ]
  },
  {
   "cell_type": "code",
   "execution_count": 7,
   "metadata": {
    "collapsed": true
   },
   "outputs": [],
   "source": [
    "brandAvgPrcDict = defaultdict(list)\n",
    "for k,v in brandReviewsDict.iteritems():\n",
    "    priceSum = 0.0\n",
    "    count = 0\n",
    "    for r in v:\n",
    "        if r[2] != 'NA':\n",
    "            priceSum += float(r[2])\n",
    "            count += 1\n",
    "    if count == 0:\n",
    "        brandAvgPrcDict[k] = globalAvgPrice\n",
    "    else:\n",
    "        brandAvgPrcDict[k] = priceSum * 1.0 / count"
   ]
  },
  {
   "cell_type": "code",
   "execution_count": 9,
   "metadata": {},
   "outputs": [],
   "source": [
    "with open('new_shuffle_data_without_NA.csv', 'wb') as out_file:\n",
    "    writer = csv.writer(out_file,delimiter = ',')\n",
    "    writer.writerow(data[0])\n",
    "    for r in data[1:]:\n",
    "        # print r[0]\n",
    "        if r[2] == 'NA':\n",
    "            r[2] = brandAvgPrcDict[r[1]]\n",
    "        writer.writerow(r)"
   ]
  },
  {
   "cell_type": "code",
   "execution_count": 163,
   "metadata": {},
   "outputs": [
    {
     "data": {
      "text/plain": [
       "list"
      ]
     },
     "execution_count": 163,
     "metadata": {},
     "output_type": "execute_result"
    }
   ],
   "source": [
    "type(brandList)"
   ]
  },
  {
   "cell_type": "code",
   "execution_count": 164,
   "metadata": {},
   "outputs": [
    {
     "data": {
      "text/plain": [
       "293"
      ]
     },
     "execution_count": 164,
     "metadata": {},
     "output_type": "execute_result"
    }
   ],
   "source": [
    "len(brandList)"
   ]
  },
  {
   "cell_type": "code",
   "execution_count": 216,
   "metadata": {
    "collapsed": true
   },
   "outputs": [],
   "source": [
    "def feature(datum):\n",
    "    feat = [1] + [1 if w in datum[4] else 0 for w in mostPopularUnigramsList[:500]]\n",
    "    # feat = [1] + [1 if datum[1] == b else 0 for b in brandList]\n",
    "    return feat"
   ]
  },
  {
   "cell_type": "code",
   "execution_count": 217,
   "metadata": {
    "collapsed": true
   },
   "outputs": [],
   "source": [
    "X = [feature(d) for d in data[1:]]\n",
    "y = [int(d[3]) for d in data[1:]]"
   ]
  },
  {
   "cell_type": "code",
   "execution_count": 218,
   "metadata": {},
   "outputs": [
    {
     "name": "stdout",
     "output_type": "stream",
     "text": [
      "1.9115021614\n"
     ]
    }
   ],
   "source": [
    "theta,_,_ = scipy.optimize.fmin_l_bfgs_b(f, [0]*len(X[0]), fprime, args = (X, y, 0.1))\n",
    "predictions = [inner(theta,x) for x in X]\n",
    "MSE = 0\n",
    "for i in range(len(predictions)):\n",
    "    MSE += (y[i] - predictions[i])**2\n",
    "MSE /= len(y) * 1.0\n",
    "print MSE"
   ]
  },
  {
   "cell_type": "code",
   "execution_count": 219,
   "metadata": {
    "collapsed": true
   },
   "outputs": [],
   "source": [
    "clf = linear_model.Ridge(1.0, fit_intercept=False)\n",
    "clf.fit(X, y)\n",
    "theta = clf.coef_\n",
    "predictions = clf.predict(X)"
   ]
  },
  {
   "cell_type": "code",
   "execution_count": 220,
   "metadata": {},
   "outputs": [
    {
     "name": "stdout",
     "output_type": "stream",
     "text": [
      "1.40291205144\n"
     ]
    }
   ],
   "source": [
    "MSE = 0\n",
    "for i in range(len(predictions)):\n",
    "    MSE += (y[i] - predictions[i])**2\n",
    "MSE /= len(y) * 1.0\n",
    "print MSE"
   ]
  },
  {
   "cell_type": "code",
   "execution_count": 221,
   "metadata": {
    "collapsed": true
   },
   "outputs": [],
   "source": [
    "theta,residuals,rank,s = numpy.linalg.lstsq(X, y)\n",
    "\n",
    "predictions = [inner(x,theta) for x in X]"
   ]
  },
  {
   "cell_type": "code",
   "execution_count": 222,
   "metadata": {},
   "outputs": [
    {
     "name": "stdout",
     "output_type": "stream",
     "text": [
      "1.40291178942\n"
     ]
    }
   ],
   "source": [
    "MSE = 0\n",
    "for i in range(len(predictions)):\n",
    "    MSE += (y[i] - predictions[i])**2\n",
    "MSE /= len(y) * 1.0\n",
    "print MSE"
   ]
  },
  {
   "cell_type": "code",
   "execution_count": 204,
   "metadata": {
    "collapsed": true
   },
   "outputs": [],
   "source": [
    "def f(theta, X, y, lam):\n",
    "  theta = numpy.matrix(theta).T\n",
    "  X = numpy.matrix(X)\n",
    "  y = numpy.matrix(y).T\n",
    "  diff = X*theta - y\n",
    "  diffSq = diff.T*diff\n",
    "  diffSqReg = diffSq / len(X) + lam*(theta.T*theta)\n",
    "  # print \"offset =\", diffSqReg.flatten().tolist()\n",
    "  return diffSqReg.flatten().tolist()[0]\n",
    "\n",
    "# Derivative\n",
    "def fprime(theta, X, y, lam):\n",
    "  theta = numpy.matrix(theta).T\n",
    "  X = numpy.matrix(X)\n",
    "  y = numpy.matrix(y).T\n",
    "  diff = X*theta - y\n",
    "  res = 2*X.T*diff / len(X) + 2*lam*theta\n",
    "  # print \"gradient =\", numpy.array(res.flatten().tolist()[0])\n",
    "  return numpy.array(res.flatten().tolist()[0])\n",
    "\n"
   ]
  },
  {
   "cell_type": "code",
   "execution_count": 205,
   "metadata": {
    "collapsed": true
   },
   "outputs": [],
   "source": [
    "theta,_,_ = scipy.optimize.fmin_l_bfgs_b(f, [0]*len(X[0]), fprime, args = (X, y, 0.1))\n",
    "predictions = [inner(x,theta) for x in X]"
   ]
  },
  {
   "cell_type": "code",
   "execution_count": 206,
   "metadata": {},
   "outputs": [
    {
     "name": "stdout",
     "output_type": "stream",
     "text": [
      "2.4806857995\n"
     ]
    }
   ],
   "source": [
    "MSE = 0\n",
    "for i in range(len(predictions)):\n",
    "    MSE += (y[i] - predictions[i])**2\n",
    "MSE /= len(y) * 1.0\n",
    "print MSE"
   ]
  },
  {
   "cell_type": "code",
   "execution_count": 223,
   "metadata": {
    "collapsed": true
   },
   "outputs": [],
   "source": [
    "def getMSE(predictions):\n",
    "    MSE = 0\n",
    "    for i in range(len(predictions)):\n",
    "        MSE += (y[i] - predictions[i])**2\n",
    "    MSE /= len(y) * 1.0\n",
    "    print MSE"
   ]
  },
  {
   "cell_type": "code",
   "execution_count": 264,
   "metadata": {
    "collapsed": true
   },
   "outputs": [],
   "source": [
    "def getAcc(predictions):\n",
    "    acc = sum([y[i] == predictions[i] for i in xrange(len(y))])\n",
    "    acc /= 1.0 * len(y)\n",
    "    print acc"
   ]
  },
  {
   "cell_type": "code",
   "execution_count": 225,
   "metadata": {
    "collapsed": true
   },
   "outputs": [],
   "source": [
    "def f(theta, X, y, lam):\n",
    "    theta = numpy.matrix(theta).T\n",
    "    X = numpy.matrix(X)\n",
    "    y = numpy.matrix(y).T\n",
    "    diff = X*theta - y\n",
    "    diffSq = diff.T*diff\n",
    "    diffSqReg = diffSq / len(X) + lam*(theta.T*theta)\n",
    "    # print \"offset =\", diffSqReg.flatten().tolist()\n",
    "    return diffSqReg.flatten().tolist()[0]"
   ]
  },
  {
   "cell_type": "code",
   "execution_count": 226,
   "metadata": {
    "collapsed": true
   },
   "outputs": [],
   "source": [
    "def fprime(theta, X, y, lam):\n",
    "    theta = numpy.matrix(theta).T\n",
    "    X = numpy.matrix(X)\n",
    "    y = numpy.matrix(y).T\n",
    "    diff = X*theta - y\n",
    "    res = 2*X.T*diff / len(X) + 2*lam*theta\n",
    "    # print \"gradient =\", numpy.array(res.flatten().tolist()[0])\n",
    "    return numpy.array(res.flatten().tolist()[0])"
   ]
  },
  {
   "cell_type": "code",
   "execution_count": 228,
   "metadata": {
    "collapsed": true
   },
   "outputs": [],
   "source": [
    "def regression1(X, y):\n",
    "    theta,_,_ = scipy.optimize.fmin_l_bfgs_b(f, [0]*len(X[0]), fprime, args = (X, y, 0.1))\n",
    "    predictions = [inner(theta,x) for x in X]\n",
    "    return predictions"
   ]
  },
  {
   "cell_type": "code",
   "execution_count": 267,
   "metadata": {
    "collapsed": true
   },
   "outputs": [],
   "source": [
    "def regression2(X, y):\n",
    "    clf = linear_model.Ridge(1.0, fit_intercept=False)\n",
    "    clf.fit(X, y)\n",
    "    theta = clf.coef_\n",
    "    predictions = clf.predict(X)\n",
    "    predictions = [int(round(i)) for i in predictions]\n",
    "        \n",
    "    p1 = predictions\n",
    "    p2 =[0] * len(p1)\n",
    "    for i in xrange(len(p1)):\n",
    "        if p1[i] < 1:\n",
    "            p2[i] = 1\n",
    "        elif p1[i] > 5:\n",
    "            p2[i] = 5\n",
    "        else:\n",
    "            p2[i] = p1[i]\n",
    "\n",
    "    return p2"
   ]
  },
  {
   "cell_type": "code",
   "execution_count": 298,
   "metadata": {
    "collapsed": true
   },
   "outputs": [],
   "source": [
    "def feature(datum):\n",
    "    feat = [1] + [1 if w in datum[4] else 0 for w in mostPopularUnigramsList]\n",
    "    '''\n",
    "    if datum[2] == 'NA':\n",
    "        feat.append(brandAvgPrcDict[datum[1]])\n",
    "    else:\n",
    "        feat.append(float(datum[2]))\n",
    "    # feat = [1] + [1 if datum[1] == b else 0 for b in brandList]\n",
    "    '''\n",
    "    \n",
    "    '''\n",
    "    wordList1 = ['good', 'excellent', 'best', 'great', 'like', 'well', 'nice', 'fast', 'perfect', \\\n",
    "                'recommend', 'happy', 'easy', 'fine', 'amazing','awesome','perfectly',\\\n",
    "                 'beautiful']\n",
    "    wordList2 = ['never', 'problems', 'bad', 'old', 'return', 'wrong', 'expensive','broken'\\\n",
    "                'broke']\n",
    "    wordList = wordList1 + wordList2\n",
    "    feat = [1] + [w in datum[4] for w in wordList]\n",
    "    '''\n",
    "    return feat\n",
    "\n",
    "X = [feature(d) for d in data[1:]]\n",
    "y = [int(d[3]) for d in data[1:]]"
   ]
  },
  {
   "cell_type": "code",
   "execution_count": 299,
   "metadata": {},
   "outputs": [
    {
     "name": "stdout",
     "output_type": "stream",
     "text": [
      "0.398653582611\n"
     ]
    }
   ],
   "source": [
    "predictions = regression2(X, y)\n",
    "getAcc(predictions)"
   ]
  },
  {
   "cell_type": "code",
   "execution_count": 275,
   "metadata": {},
   "outputs": [
    {
     "data": {
      "text/plain": [
       "2000"
      ]
     },
     "execution_count": 275,
     "metadata": {},
     "output_type": "execute_result"
    }
   ],
   "source": [
    "len(mostPopularUnigramsList)"
   ]
  },
  {
   "cell_type": "code",
   "execution_count": 296,
   "metadata": {
    "collapsed": true
   },
   "outputs": [],
   "source": [
    "with open(\"filtered_shuffled_data_replaceNA.csv\",'wb') as outfile:\n",
    "    writer = csv.writer(outfile, delimiter = ',')\n",
    "    writer.writerow(data[0])\n",
    "    for r in data[1:]:\n",
    "        if r[2] == 'NA':\n",
    "            r[2] = brandAvgPrcDict[r[1]]\n",
    "        writer.writerow(r)"
   ]
  }
 ],
 "metadata": {
  "kernelspec": {
   "display_name": "Python 3",
   "language": "python",
   "name": "python3"
  },
  "language_info": {
   "codemirror_mode": {
    "name": "ipython",
    "version": 3
   },
   "file_extension": ".py",
   "mimetype": "text/x-python",
   "name": "python",
   "nbconvert_exporter": "python",
   "pygments_lexer": "ipython3",
   "version": "3.6.2"
  }
 },
 "nbformat": 4,
 "nbformat_minor": 2
}
